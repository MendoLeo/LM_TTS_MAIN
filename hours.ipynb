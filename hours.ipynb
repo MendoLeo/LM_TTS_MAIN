{
 "cells": [
  {
   "cell_type": "code",
   "execution_count": 1,
   "metadata": {},
   "outputs": [],
   "source": [
    "import os\n",
    "from pydub.utils import mediainfo"
   ]
  },
  {
   "cell_type": "code",
   "execution_count": null,
   "metadata": {},
   "outputs": [],
   "source": [
    "from glob import glob\n",
    "\n",
    "# Utiliser '**' pour parcourir récursivement tous les sous-dossiers\n",
    "chemin = \"chemin/vers/le/repertoire/principal/**/*.mp3\"\n",
    "fichiers_mp3 = glob(chemin, recursive=True)\n",
    "\n",
    "print(fichiers_mp3)  # Affiche les chemins complets des fichiers .mp3\n"
   ]
  },
  {
   "cell_type": "code",
   "execution_count": 2,
   "metadata": {},
   "outputs": [],
   "source": [
    "\n",
    "\n",
    "def get_audio_duration(file_path):\n",
    "    \"\"\"Retourne la durée en secondes d'un fichier audio donné\"\"\"\n",
    "    info = mediainfo(file_path)\n",
    "    return float(info['duration'])\n",
    "\n",
    "def total_audio_duration(directory):\n",
    "    \"\"\"Calcule la durée totale de tous les fichiers audio dans un répertoire\"\"\"\n",
    "    total_duration = 0.0\n",
    "    for filename in os.listdir(directory):\n",
    "        if filename.endswith(('.mp3', '.wav', '.flac', '.ogg')):  # Ajouter les formats nécessaires\n",
    "            file_path = os.path.join(directory, filename)\n",
    "            total_duration += get_audio_duration(file_path)\n",
    "    return total_duration\n",
    "\n"
   ]
  },
  {
   "cell_type": "code",
   "execution_count": 3,
   "metadata": {},
   "outputs": [
    {
     "name": "stdout",
     "output_type": "stream",
     "text": [
      "Durée totale : 0 heures, 0 minutes et 0 secondes\n"
     ]
    }
   ],
   "source": [
    "# Chemin vers le dossier contenant les fichiers audio\n",
    "directory_path = '/home/mendo/Downloads/LM/LM-5/LM-TTS-Main/data_marte_wav/Francais/audio-fr/audio-at'\n",
    "total_duration_seconds = total_audio_duration(directory_path)\n",
    "\n",
    "# Convertir les secondes en heures, minutes et secondes\n",
    "hours = total_duration_seconds // 3600\n",
    "minutes = (total_duration_seconds % 3600) // 60\n",
    "seconds = total_duration_seconds % 60\n",
    "\n",
    "print(f\"Durée totale : {int(hours)} heures, {int(minutes)} minutes et {int(seconds)} secondes\")\n"
   ]
  },
  {
   "cell_type": "markdown",
   "metadata": {},
   "source": [
    "#### - Bulu audio ancien testament:  36 heures, 8 minutes et 49 secondes\n",
    "#### - Bulu audio nouveau testament: 24 heures, 22 minutes et 51 secondes\n",
    "#### - Bafia audio nouveau testament: 23 heures, 32 minutes et 4 secondes\n",
    "#### - Ewondo audio nouveau testament: 25 heures, 27 minutes et 3 secondes\n",
    "#### - Audio ancien testament francais: 69h, 56 minutes , 6 secondes\n",
    "#### - Audio nouveau testament francais: 19h, 36 minutes , 35 secondes"
   ]
  },
  {
   "cell_type": "code",
   "execution_count": null,
   "metadata": {},
   "outputs": [],
   "source": []
  },
  {
   "cell_type": "markdown",
   "metadata": {},
   "source": [
    "#### donnees audio_150 (use this data for out-domaine test)\n",
    "##### - Bafia:  0 heures, 5 minutes et 29 secondes\n",
    "##### - Ewondo: 0 heures, 3 minutes et 33 secondes"
   ]
  },
  {
   "cell_type": "code",
   "execution_count": 1,
   "metadata": {},
   "outputs": [
    {
     "name": "stdout",
     "output_type": "stream",
     "text": [
      "La durée totale de tous les fichiers .wav est de : 69 heures, 56 minutes, 6 secondes.\n"
     ]
    }
   ],
   "source": [
    "import os\n",
    "from pydub.utils import mediainfo\n",
    "\n",
    "def get_audio_duration(file_path):\n",
    "    \"\"\"Retourne la durée en secondes d'un fichier audio donné\"\"\"\n",
    "    info = mediainfo(file_path)\n",
    "    return float(info['duration'])\n",
    "\n",
    "def total_wav_duration(directory):\n",
    "    \"\"\"Calcule la durée totale de tous les fichiers .wav dans un répertoire et ses sous-répertoires\"\"\"\n",
    "    total_duration = 0.0\n",
    "    for root, _, files in os.walk(directory):\n",
    "        for file in files:\n",
    "            if file.endswith('.wav'):\n",
    "                file_path = os.path.join(root, file)\n",
    "                total_duration += get_audio_duration(file_path)\n",
    "    return total_duration\n",
    "\n",
    "def format_duration(seconds):\n",
    "    \"\"\"Convertit une durée en secondes en heures, minutes et secondes\"\"\"\n",
    "    hours = int(seconds // 3600)\n",
    "    minutes = int((seconds % 3600) // 60)\n",
    "    seconds = int(seconds % 60)\n",
    "    return f\"{hours} heures, {minutes} minutes, {seconds} secondes\"\n",
    "\n",
    "# Exemple d'utilisation\n",
    "directory = '/home/mendo/Downloads/LM/LM-5/LM-TTS-Main/data_marte_wav/Francais/audio-fr/audio-at'\n",
    "duration_seconds = total_wav_duration(directory)\n",
    "formatted_duration = format_duration(duration_seconds)\n",
    "print(f\"La durée totale de tous les fichiers .wav est de : {formatted_duration}.\")\n"
   ]
  },
  {
   "cell_type": "code",
   "execution_count": 2,
   "metadata": {},
   "outputs": [
    {
     "name": "stdout",
     "output_type": "stream",
     "text": [
      "La durée totale de tous les fichiers .wav est de : 19 heures, 36 minutes, 35 secondes.\n"
     ]
    }
   ],
   "source": [
    "directory = '/home/mendo/Downloads/LM/LM-5/LM-TTS-Main/data_marte_wav/Francais/audio-fr/audio-nt'\n",
    "duration_seconds = total_wav_duration(directory)\n",
    "formatted_duration = format_duration(duration_seconds)\n",
    "print(f\"La durée totale de tous les fichiers .wav est de : {formatted_duration}.\")\n"
   ]
  },
  {
   "cell_type": "code",
   "execution_count": null,
   "metadata": {},
   "outputs": [],
   "source": []
  },
  {
   "cell_type": "markdown",
   "metadata": {},
   "source": [
    "#### Audio ancien testament francais: 69h, 56 minutes , 6 secondes\n",
    "#### Audio nouveau testament francais: 19h, 36 minutes , 35 secondes"
   ]
  },
  {
   "cell_type": "markdown",
   "metadata": {},
   "source": [
    "## sentences-150"
   ]
  },
  {
   "cell_type": "code",
   "execution_count": 3,
   "metadata": {},
   "outputs": [],
   "source": [
    "import pandas as pd\n"
   ]
  },
  {
   "cell_type": "code",
   "execution_count": 86,
   "metadata": {},
   "outputs": [],
   "source": [
    "bafia= pd.read_csv('/home/mendo/Downloads/LM/LM-5/LM-TTS-Main/data_warehouse/Bafia_all/Bafia_150/sentences_150.csv')\n",
    "ewondo= pd.read_csv('/home/mendo/Downloads/LM/LM-5/LM-TTS-Main/data_warehouse/Ewondo_all/ewo_Ewondo_150/sentences_150.csv')"
   ]
  },
  {
   "cell_type": "code",
   "execution_count": 59,
   "metadata": {},
   "outputs": [
    {
     "data": {
      "text/html": [
       "<div>\n",
       "<style scoped>\n",
       "    .dataframe tbody tr th:only-of-type {\n",
       "        vertical-align: middle;\n",
       "    }\n",
       "\n",
       "    .dataframe tbody tr th {\n",
       "        vertical-align: top;\n",
       "    }\n",
       "\n",
       "    .dataframe thead th {\n",
       "        text-align: right;\n",
       "    }\n",
       "</style>\n",
       "<table border=\"1\" class=\"dataframe\">\n",
       "  <thead>\n",
       "    <tr style=\"text-align: right;\">\n",
       "      <th></th>\n",
       "      <th>1</th>\n",
       "      <th>mbəmbə kídí</th>\n",
       "    </tr>\n",
       "  </thead>\n",
       "  <tbody>\n",
       "    <tr>\n",
       "      <th>0</th>\n",
       "      <td>2</td>\n",
       "      <td>masug</td>\n",
       "    </tr>\n",
       "    <tr>\n",
       "      <th>1</th>\n",
       "      <td>3</td>\n",
       "      <td>ndɔ miná yá?</td>\n",
       "    </tr>\n",
       "    <tr>\n",
       "      <th>2</th>\n",
       "      <td>4</td>\n",
       "      <td>dzé é nə́ mkpámɛ́n?</td>\n",
       "    </tr>\n",
       "    <tr>\n",
       "      <th>3</th>\n",
       "      <td>5</td>\n",
       "      <td>mə nə dzoé nâ paulus</td>\n",
       "    </tr>\n",
       "    <tr>\n",
       "      <th>4</th>\n",
       "      <td>6</td>\n",
       "      <td>masɔ́ á ndzámɛ́n</td>\n",
       "    </tr>\n",
       "    <tr>\n",
       "      <th>...</th>\n",
       "      <td>...</td>\n",
       "      <td>...</td>\n",
       "    </tr>\n",
       "    <tr>\n",
       "      <th>144</th>\n",
       "      <td>146</td>\n",
       "      <td>nálá ó nə ábé</td>\n",
       "    </tr>\n",
       "    <tr>\n",
       "      <th>145</th>\n",
       "      <td>147</td>\n",
       "      <td>ma wódənə miǹson</td>\n",
       "    </tr>\n",
       "    <tr>\n",
       "      <th>146</th>\n",
       "      <td>148</td>\n",
       "      <td>e mə nə dzǎmá nɔ̀ŋ fóda?</td>\n",
       "    </tr>\n",
       "    <tr>\n",
       "      <th>147</th>\n",
       "      <td>149</td>\n",
       "      <td>nálá ó nə áyé</td>\n",
       "    </tr>\n",
       "    <tr>\n",
       "      <th>148</th>\n",
       "      <td>150</td>\n",
       "      <td>madiŋ wa</td>\n",
       "    </tr>\n",
       "  </tbody>\n",
       "</table>\n",
       "<p>149 rows × 2 columns</p>\n",
       "</div>"
      ],
      "text/plain": [
       "       1                mbəmbə kídí\n",
       "0      2                        masug\n",
       "1      3               ndɔ miná yá?\n",
       "2      4       dzé é nə́ mkpámɛ́n?\n",
       "3      5       mə nə dzoé nâ paulus\n",
       "4      6           masɔ́ á ndzámɛ́n\n",
       "..   ...                          ...\n",
       "144  146           nálá ó nə ábé\n",
       "145  147           ma wódənə miǹson\n",
       "146  148  e mə nə dzǎmá nɔ̀ŋ fóda?\n",
       "147  149           nálá ó nə áyé\n",
       "148  150                     madiŋ wa\n",
       "\n",
       "[149 rows x 2 columns]"
      ]
     },
     "execution_count": 59,
     "metadata": {},
     "output_type": "execute_result"
    }
   ],
   "source": [
    "ewondo"
   ]
  },
  {
   "cell_type": "code",
   "execution_count": 60,
   "metadata": {},
   "outputs": [
    {
     "data": {
      "text/plain": [
       "Index(['1', 'mbəmbə kídí'], dtype='object')"
      ]
     },
     "execution_count": 60,
     "metadata": {},
     "output_type": "execute_result"
    }
   ],
   "source": [
    "ewondo.columns"
   ]
  },
  {
   "cell_type": "code",
   "execution_count": 61,
   "metadata": {},
   "outputs": [],
   "source": [
    "ewondo.rename(columns={'mbəmbə kídí':'tense'}, inplace=True)"
   ]
  },
  {
   "cell_type": "code",
   "execution_count": 62,
   "metadata": {},
   "outputs": [],
   "source": [
    "use_ewo =ewondo['tense']"
   ]
  },
  {
   "cell_type": "code",
   "execution_count": 63,
   "metadata": {},
   "outputs": [
    {
     "data": {
      "text/plain": [
       "0                            masug\n",
       "1                   ndɔ miná yá?\n",
       "2           dzé é nə́ mkpámɛ́n?\n",
       "3           mə nə dzoé nâ paulus\n",
       "4               masɔ́ á ndzámɛ́n\n",
       "                  ...             \n",
       "144             nálá ó nə ábé\n",
       "145             ma wódənə miǹson\n",
       "146    e mə nə dzǎmá nɔ̀ŋ fóda?\n",
       "147             nálá ó nə áyé\n",
       "148                       madiŋ wa\n",
       "Name: tense, Length: 149, dtype: object"
      ]
     },
     "execution_count": 63,
     "metadata": {},
     "output_type": "execute_result"
    }
   ],
   "source": [
    "use_ewo"
   ]
  },
  {
   "cell_type": "code",
   "execution_count": 44,
   "metadata": {},
   "outputs": [],
   "source": [
    "import json\n",
    "import re\n",
    "import string\n",
    "import unicodedata\n",
    "from unidecode import unidecode"
   ]
  },
  {
   "cell_type": "code",
   "execution_count": 45,
   "metadata": {},
   "outputs": [],
   "source": [
    "def preprocess_verse(text: str) -> str:\n",
    "    text = unidecode(text)\n",
    "    text = unicodedata.normalize('NFKC', text)\n",
    "    text = text.lower()\n",
    "    text = text.translate(str.maketrans('', '', string.punctuation))\n",
    "    text = re.sub(\"\\s+\", \" \", text)\n",
    "    return text\n"
   ]
  },
  {
   "cell_type": "code",
   "execution_count": 64,
   "metadata": {},
   "outputs": [],
   "source": [
    "ewo_= ewondo['tense'].map(preprocess_verse)"
   ]
  },
  {
   "cell_type": "code",
   "execution_count": 67,
   "metadata": {},
   "outputs": [],
   "source": [
    "save_ewo =ewo_.to_frame()['tense'].to_dict()"
   ]
  },
  {
   "cell_type": "code",
   "execution_count": 71,
   "metadata": {},
   "outputs": [
    {
     "data": {
      "text/plain": [
       "dict"
      ]
     },
     "execution_count": 71,
     "metadata": {},
     "output_type": "execute_result"
    }
   ],
   "source": [
    "type(save_ewo)"
   ]
  },
  {
   "cell_type": "code",
   "execution_count": 90,
   "metadata": {},
   "outputs": [
    {
     "name": "stdout",
     "output_type": "stream",
     "text": [
      "Dictionnaire sauvegardé en JSON dans le fichier Ewo.json\n"
     ]
    }
   ],
   "source": [
    "import json\n",
    "\n",
    "# Chemin du fichier où enregistrer le JSON\n",
    "chemin_fichier = 'Ewo.json'\n",
    "\n",
    "# Convertir en JSON et sauvegarder dans un fichier\n",
    "with open(chemin_fichier, 'w') as fichier:\n",
    "    json.dump(save_ewo, fichier, indent=2)  # indent=4 pour une meilleure lisibilité\n",
    "\n",
    "print(f\"Dictionnaire sauvegardé en JSON dans le fichier {chemin_fichier}\")\n"
   ]
  },
  {
   "cell_type": "code",
   "execution_count": null,
   "metadata": {},
   "outputs": [],
   "source": []
  },
  {
   "cell_type": "code",
   "execution_count": null,
   "metadata": {},
   "outputs": [],
   "source": []
  },
  {
   "cell_type": "code",
   "execution_count": null,
   "metadata": {},
   "outputs": [],
   "source": []
  },
  {
   "cell_type": "code",
   "execution_count": null,
   "metadata": {},
   "outputs": [],
   "source": []
  },
  {
   "cell_type": "code",
   "execution_count": null,
   "metadata": {},
   "outputs": [],
   "source": []
  },
  {
   "cell_type": "code",
   "execution_count": 87,
   "metadata": {},
   "outputs": [
    {
     "data": {
      "text/html": [
       "<div>\n",
       "<style scoped>\n",
       "    .dataframe tbody tr th:only-of-type {\n",
       "        vertical-align: middle;\n",
       "    }\n",
       "\n",
       "    .dataframe tbody tr th {\n",
       "        vertical-align: top;\n",
       "    }\n",
       "\n",
       "    .dataframe thead th {\n",
       "        text-align: right;\n",
       "    }\n",
       "</style>\n",
       "<table border=\"1\" class=\"dataframe\">\n",
       "  <thead>\n",
       "    <tr style=\"text-align: right;\">\n",
       "      <th></th>\n",
       "      <th>{\"wa yɛmbè?\"</th>\n",
       "      <th>Unnamed: 1</th>\n",
       "    </tr>\n",
       "  </thead>\n",
       "  <tbody>\n",
       "    <tr>\n",
       "      <th>0</th>\n",
       "      <td>ntɔ́ksi</td>\n",
       "      <td>NaN</td>\n",
       "    </tr>\n",
       "    <tr>\n",
       "      <th>1</th>\n",
       "      <td>biri lá fɔ́ɔ́</td>\n",
       "      <td>NaN</td>\n",
       "    </tr>\n",
       "    <tr>\n",
       "      <th>2</th>\n",
       "      <td>cə ki nyɔ́n</td>\n",
       "      <td>NaN</td>\n",
       "    </tr>\n",
       "    <tr>\n",
       "      <th>3</th>\n",
       "      <td>nri dii lɛ paul</td>\n",
       "      <td>NaN</td>\n",
       "    </tr>\n",
       "    <tr>\n",
       "      <th>4</th>\n",
       "      <td>nri mwáá  á bɛ́lin</td>\n",
       "      <td>NaN</td>\n",
       "    </tr>\n",
       "    <tr>\n",
       "      <th>...</th>\n",
       "      <td>...</td>\n",
       "      <td>...</td>\n",
       "    </tr>\n",
       "    <tr>\n",
       "      <th>144</th>\n",
       "      <td>kə rɔtɛ́ bə</td>\n",
       "      <td>NaN</td>\n",
       "    </tr>\n",
       "    <tr>\n",
       "      <th>145</th>\n",
       "      <td>nre lə cɛ́cɛ́</td>\n",
       "      <td>NaN</td>\n",
       "    </tr>\n",
       "    <tr>\n",
       "      <th>146</th>\n",
       "      <td>nrə lə ntɛ́k fɔtɔ?</td>\n",
       "      <td>NaN</td>\n",
       "    </tr>\n",
       "    <tr>\n",
       "      <th>147</th>\n",
       "      <td>kə tɛ́sɛ̀</td>\n",
       "      <td>NaN</td>\n",
       "    </tr>\n",
       "    <tr>\n",
       "      <th>148</th>\n",
       "      <td>nkɛ́si wɔ́}</td>\n",
       "      <td>NaN</td>\n",
       "    </tr>\n",
       "  </tbody>\n",
       "</table>\n",
       "<p>149 rows × 2 columns</p>\n",
       "</div>"
      ],
      "text/plain": [
       "             {\"wa yɛmbè?\"  Unnamed: 1\n",
       "0                  ntɔ́ksi         NaN\n",
       "1           biri lá fɔ́ɔ́         NaN\n",
       "2              cə ki nyɔ́n         NaN\n",
       "3          nri dii lɛ paul         NaN\n",
       "4    nri mwáá  á bɛ́lin         NaN\n",
       "..                     ...         ...\n",
       "144            kə rɔtɛ́ bə         NaN\n",
       "145          nre lə cɛ́cɛ́         NaN\n",
       "146     nrə lə ntɛ́k fɔtɔ?         NaN\n",
       "147              kə tɛ́sɛ̀         NaN\n",
       "148            nkɛ́si wɔ́}         NaN\n",
       "\n",
       "[149 rows x 2 columns]"
      ]
     },
     "execution_count": 87,
     "metadata": {},
     "output_type": "execute_result"
    }
   ],
   "source": [
    "bafia"
   ]
  },
  {
   "cell_type": "code",
   "execution_count": 88,
   "metadata": {},
   "outputs": [],
   "source": [
    "bafi=  bafia.iloc[0:,:-1]"
   ]
  },
  {
   "cell_type": "code",
   "execution_count": 89,
   "metadata": {},
   "outputs": [
    {
     "data": {
      "text/html": [
       "<div>\n",
       "<style scoped>\n",
       "    .dataframe tbody tr th:only-of-type {\n",
       "        vertical-align: middle;\n",
       "    }\n",
       "\n",
       "    .dataframe tbody tr th {\n",
       "        vertical-align: top;\n",
       "    }\n",
       "\n",
       "    .dataframe thead th {\n",
       "        text-align: right;\n",
       "    }\n",
       "</style>\n",
       "<table border=\"1\" class=\"dataframe\">\n",
       "  <thead>\n",
       "    <tr style=\"text-align: right;\">\n",
       "      <th></th>\n",
       "      <th>{\"wa yɛmbè?\"</th>\n",
       "    </tr>\n",
       "  </thead>\n",
       "  <tbody>\n",
       "    <tr>\n",
       "      <th>0</th>\n",
       "      <td>ntɔ́ksi</td>\n",
       "    </tr>\n",
       "    <tr>\n",
       "      <th>1</th>\n",
       "      <td>biri lá fɔ́ɔ́</td>\n",
       "    </tr>\n",
       "    <tr>\n",
       "      <th>2</th>\n",
       "      <td>cə ki nyɔ́n</td>\n",
       "    </tr>\n",
       "    <tr>\n",
       "      <th>3</th>\n",
       "      <td>nri dii lɛ paul</td>\n",
       "    </tr>\n",
       "    <tr>\n",
       "      <th>4</th>\n",
       "      <td>nri mwáá  á bɛ́lin</td>\n",
       "    </tr>\n",
       "    <tr>\n",
       "      <th>...</th>\n",
       "      <td>...</td>\n",
       "    </tr>\n",
       "    <tr>\n",
       "      <th>144</th>\n",
       "      <td>kə rɔtɛ́ bə</td>\n",
       "    </tr>\n",
       "    <tr>\n",
       "      <th>145</th>\n",
       "      <td>nre lə cɛ́cɛ́</td>\n",
       "    </tr>\n",
       "    <tr>\n",
       "      <th>146</th>\n",
       "      <td>nrə lə ntɛ́k fɔtɔ?</td>\n",
       "    </tr>\n",
       "    <tr>\n",
       "      <th>147</th>\n",
       "      <td>kə tɛ́sɛ̀</td>\n",
       "    </tr>\n",
       "    <tr>\n",
       "      <th>148</th>\n",
       "      <td>nkɛ́si wɔ́}</td>\n",
       "    </tr>\n",
       "  </tbody>\n",
       "</table>\n",
       "<p>149 rows × 1 columns</p>\n",
       "</div>"
      ],
      "text/plain": [
       "             {\"wa yɛmbè?\"\n",
       "0                  ntɔ́ksi\n",
       "1           biri lá fɔ́ɔ́\n",
       "2              cə ki nyɔ́n\n",
       "3          nri dii lɛ paul\n",
       "4    nri mwáá  á bɛ́lin\n",
       "..                     ...\n",
       "144            kə rɔtɛ́ bə\n",
       "145          nre lə cɛ́cɛ́\n",
       "146     nrə lə ntɛ́k fɔtɔ?\n",
       "147              kə tɛ́sɛ̀\n",
       "148            nkɛ́si wɔ́}\n",
       "\n",
       "[149 rows x 1 columns]"
      ]
     },
     "execution_count": 89,
     "metadata": {},
     "output_type": "execute_result"
    }
   ],
   "source": [
    "bafi"
   ]
  },
  {
   "cell_type": "code",
   "execution_count": null,
   "metadata": {},
   "outputs": [],
   "source": [
    "use_baf =bafi.apply(preprocess_verse)"
   ]
  },
  {
   "cell_type": "code",
   "execution_count": 1,
   "metadata": {},
   "outputs": [],
   "source": [
    "import pandas as pd"
   ]
  },
  {
   "cell_type": "code",
   "execution_count": 2,
   "metadata": {},
   "outputs": [],
   "source": [
    "bib= pd.read_csv('/home/mendo/Downloads/LM/LM-5/LM-TTS-Main/MAT.csv')"
   ]
  },
  {
   "cell_type": "code",
   "execution_count": 3,
   "metadata": {},
   "outputs": [
    {
     "data": {
      "text/plain": [
       "Index(['livre.chapitre.verset', 'Bafia', 'Dii', 'Ejagham', 'Ghomala', 'Vute',\n",
       "       'Limbum', 'MKPAMAN_AMVOE_Ewondo', 'Mofa', 'Mofu_Gudur', 'Ngiemboon',\n",
       "       'Doyayo', 'Guidar', 'Peere_Nt&Psalms', 'Samba_Leko',\n",
       "       'Du_na_sdik_na_wiini_Alaw', 'Francais', 'Anglais',\n",
       "       'BIBALDA_TA_PELDETTA', 'Bulu', 'Guiziga', 'Fulfulde_Adamaoua',\n",
       "       'Fulfulde_DC', 'KALATA_KO_SC_Gbaya', 'KALATA_KO_DC_Gbaya', 'Kapsiki_DC',\n",
       "       'Tupurri'],\n",
       "      dtype='object')"
      ]
     },
     "execution_count": 3,
     "metadata": {},
     "output_type": "execute_result"
    }
   ],
   "source": [
    "bib.columns"
   ]
  },
  {
   "cell_type": "code",
   "execution_count": 4,
   "metadata": {},
   "outputs": [
    {
     "data": {
      "text/plain": [
       "27"
      ]
     },
     "execution_count": 4,
     "metadata": {},
     "output_type": "execute_result"
    }
   ],
   "source": [
    "bib.shape[1]"
   ]
  },
  {
   "cell_type": "code",
   "execution_count": null,
   "metadata": {},
   "outputs": [],
   "source": []
  }
 ],
 "metadata": {
  "kernelspec": {
   "display_name": "Python 3",
   "language": "python",
   "name": "python3"
  },
  "language_info": {
   "codemirror_mode": {
    "name": "ipython",
    "version": 3
   },
   "file_extension": ".py",
   "mimetype": "text/x-python",
   "name": "python",
   "nbconvert_exporter": "python",
   "pygments_lexer": "ipython3",
   "version": "3.10.12"
  }
 },
 "nbformat": 4,
 "nbformat_minor": 2
}

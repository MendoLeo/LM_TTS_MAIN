{
 "cells": [
  {
   "cell_type": "code",
   "execution_count": 1,
   "metadata": {},
   "outputs": [],
   "source": [
    "import os\n",
    "from pydub.utils import mediainfo"
   ]
  },
  {
   "cell_type": "code",
   "execution_count": 4,
   "metadata": {},
   "outputs": [],
   "source": [
    "\n",
    "\n",
    "def get_audio_duration(file_path):\n",
    "    \"\"\"Retourne la durée en secondes d'un fichier audio donné\"\"\"\n",
    "    info = mediainfo(file_path)\n",
    "    return float(info['duration'])\n",
    "\n",
    "def total_audio_duration(directory):\n",
    "    \"\"\"Calcule la durée totale de tous les fichiers audio dans un répertoire\"\"\"\n",
    "    total_duration = 0.0\n",
    "    for filename in os.listdir(directory):\n",
    "        if filename.endswith(('.mp3', '.wav', '.flac', '.ogg')):  # Ajouter les formats nécessaires\n",
    "            file_path = os.path.join(directory, filename)\n",
    "            total_duration += get_audio_duration(file_path)\n",
    "    return total_duration\n",
    "\n"
   ]
  },
  {
   "cell_type": "code",
   "execution_count": 11,
   "metadata": {},
   "outputs": [
    {
     "name": "stdout",
     "output_type": "stream",
     "text": [
      "Durée totale : 0 heures, 3 minutes et 33 secondes\n"
     ]
    }
   ],
   "source": [
    "# Chemin vers le dossier contenant les fichiers audio\n",
    "directory_path = '/home/mendo/Downloads/LM/LM-5/LM-TTS-Main/data_warehouse/Ewondo_all/ewo_Ewondo_150/cm_ewo'\n",
    "total_duration_seconds = total_audio_duration(directory_path)\n",
    "\n",
    "# Convertir les secondes en heures, minutes et secondes\n",
    "hours = total_duration_seconds // 3600\n",
    "minutes = (total_duration_seconds % 3600) // 60\n",
    "seconds = total_duration_seconds % 60\n",
    "\n",
    "print(f\"Durée totale : {int(hours)} heures, {int(minutes)} minutes et {int(seconds)} secondes\")\n"
   ]
  },
  {
   "cell_type": "markdown",
   "metadata": {},
   "source": [
    "#### - Bulu audio ancien testament:  36 heures, 8 minutes et 49 secondes\n",
    "#### - Bulu audio nouveau testament: 24 heures, 22 minutes et 51 secondes\n",
    "#### - Bafia audio nouveau testament: 23 heures, 32 minutes et 4 secondes\n",
    "#### - Ewondo audio nouveau testament: 25 heures, 27 minutes et 3 secondes"
   ]
  },
  {
   "cell_type": "code",
   "execution_count": null,
   "metadata": {},
   "outputs": [],
   "source": []
  },
  {
   "cell_type": "markdown",
   "metadata": {},
   "source": [
    "#### donnees audio_150\n",
    "##### - Bafia:  0 heures, 5 minutes et 29 secondes\n",
    "##### - Ewondo: 0 heures, 3 minutes et 33 secondes"
   ]
  }
 ],
 "metadata": {
  "kernelspec": {
   "display_name": "Python 3",
   "language": "python",
   "name": "python3"
  },
  "language_info": {
   "codemirror_mode": {
    "name": "ipython",
    "version": 3
   },
   "file_extension": ".py",
   "mimetype": "text/x-python",
   "name": "python",
   "nbconvert_exporter": "python",
   "pygments_lexer": "ipython3",
   "version": "3.10.12"
  }
 },
 "nbformat": 4,
 "nbformat_minor": 2
}

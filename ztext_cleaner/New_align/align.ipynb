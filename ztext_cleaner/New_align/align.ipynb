{
 "cells": [
  {
   "cell_type": "code",
   "execution_count": 1,
   "metadata": {},
   "outputs": [],
   "source": [
    "import pandas as pd"
   ]
  },
  {
   "cell_type": "code",
   "execution_count": 1,
   "metadata": {},
   "outputs": [],
   "source": [
    "import re\n",
    "from pydub import AudioSegment"
   ]
  },
  {
   "cell_type": "code",
   "execution_count": 2,
   "metadata": {},
   "outputs": [],
   "source": [
    "audio_dir='/home/mendo/Downloads/LM/LM-5/LM-TTS-Main/ztext_cleaner/New_test/1CO_004.wav'\n",
    "horodatage_dir='/home/mendo/Downloads/LM/LM-5/LM-TTS-Main/ztext_cleaner/New_test/1CO_004.txt'"
   ]
  },
  {
   "cell_type": "code",
   "execution_count": 4,
   "metadata": {},
   "outputs": [
    {
     "name": "stdout",
     "output_type": "stream",
     "text": [
      "Segment 1 exporté: 1CO_004_1.wav (10.4s - 19.26s)\n",
      "Segment 2 exporté: 1CO_004_2.wav (19.26s - 27.86s)\n",
      "Segment 3 exporté: 1CO_004_3.wav (27.86s - 36.62s)\n",
      "Segment 4 exporté: 1CO_004_4.wav (36.62s - 40.6s)\n",
      "Segment 5 exporté: 1CO_004_5.wav (40.6s - 52.54s)\n",
      "Segment 6 exporté: 1CO_004_6.wav (52.54s - 66.04s)\n",
      "Segment 7 exporté: 1CO_004_7.wav (66.04s - 70.14s)\n",
      "Segment 8 exporté: 1CO_004_8.wav (70.14s - 90.34s)\n",
      "Segment 9 exporté: 1CO_004_9.wav (90.34s - 95.18s)\n",
      "Segment 10 exporté: 1CO_004_10.wav (95.18s - 98.52s)\n",
      "Segment 11 exporté: 1CO_004_11.wav (98.52s - 105.08s)\n",
      "Segment 12 exporté: 1CO_004_12.wav (105.08s - 112.68s)\n",
      "Segment 13 exporté: 1CO_004_13.wav (112.68s - 122.94s)\n",
      "Segment 14 exporté: 1CO_004_14.wav (122.94s - 140.5s)\n",
      "Segment 15 exporté: 1CO_004_15.wav (140.5s - 147.64s)\n",
      "Segment 16 exporté: 1CO_004_16.wav (147.64s - 156.42s)\n",
      "Segment 17 exporté: 1CO_004_17.wav (156.42s - 172.44s)\n",
      "Segment 18 exporté: 1CO_004_18.wav (172.44s - 184.9s)\n",
      "Segment 19 exporté: 1CO_004_19.wav (184.9s - 194.88s)\n",
      "Segment 20 exporté: 1CO_004_20.wav (194.88s - 206.9s)\n",
      "Segment 21 exporté: 1CO_004_21.wav (206.9s - 215.06s)\n",
      "Segment 22 exporté: 1CO_004_22.wav (215.06s - 220.4s)\n",
      "Segment 23 exporté: 1CO_004_23.wav (220.4s - 226.26s)\n",
      "Segment 24 exporté: 1CO_004_24.wav (226.26s - 244.04s)\n",
      "Segment 25 exporté: 1CO_004_25.wav (244.04s - 252.36s)\n",
      "Segment 26 exporté: 1CO_004_26.wav (252.36s - 263.84s)\n",
      "Segment 27 exporté: 1CO_004_27.wav (263.84s - 270.0s)\n",
      "Segment 28 exporté: 1CO_004_28.wav (270.0s - 271.94s)\n",
      "Segment 29 exporté: 1CO_004_29.wav (271.94s - 276.8s)\n"
     ]
    }
   ],
   "source": [
    "\n",
    "# Charger le fichier audio (remplace par ton fichier)\n",
    "audio = AudioSegment.from_file(audio_dir, format=\"wav\")\n",
    "\n",
    "# Lire le fichier texte contenant les segments\n",
    "with open(horodatage_dir, \"r\", encoding=\"utf-8\") as file:\n",
    "    lines = file.readlines()\n",
    "\n",
    "# Extraire les horodatages et le texte\n",
    "segments = []\n",
    "pattern = r\"([\\d\\.]+)-([\\d\\.]+):\\s(.+)\"  # Regex pour capturer les timestamps et le texte\n",
    "\n",
    "for line in lines:\n",
    "    match = re.match(pattern, line.strip())\n",
    "    if match:\n",
    "        start, end, text = match.groups()\n",
    "        segments.append((float(start), float(end), text))\n",
    "\n",
    "# Segmenter l'audio et exporter\n",
    "for i, (start, end, text) in enumerate(segments):\n",
    "    start_ms = int(start * 1000)  # Conversion en millisecondes\n",
    "    end_ms = int(end * 1000)\n",
    "\n",
    "    segment = audio[start_ms:end_ms]\n",
    "\n",
    "    # Nom du fichier\n",
    "    filename = f\"1CO_004_{i+1}.wav\"\n",
    "    segment.export(filename, format=\"wav\")\n",
    "\n",
    "    print(f\"Segment {i+1} exporté: {filename} ({start}s - {end}s)\")\n"
   ]
  },
  {
   "cell_type": "code",
   "execution_count": null,
   "metadata": {},
   "outputs": [],
   "source": []
  },
  {
   "cell_type": "code",
   "execution_count": null,
   "metadata": {},
   "outputs": [],
   "source": []
  }
 ],
 "metadata": {
  "kernelspec": {
   "display_name": "Python 3",
   "language": "python",
   "name": "python3"
  },
  "language_info": {
   "codemirror_mode": {
    "name": "ipython",
    "version": 3
   },
   "file_extension": ".py",
   "mimetype": "text/x-python",
   "name": "python",
   "nbconvert_exporter": "python",
   "pygments_lexer": "ipython3",
   "version": "3.10.12"
  }
 },
 "nbformat": 4,
 "nbformat_minor": 2
}

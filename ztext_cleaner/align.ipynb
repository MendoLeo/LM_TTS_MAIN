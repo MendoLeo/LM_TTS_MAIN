{
 "cells": [
  {
   "cell_type": "code",
   "execution_count": 1,
   "metadata": {},
   "outputs": [],
   "source": [
    "import pandas as pd"
   ]
  },
  {
   "cell_type": "code",
   "execution_count": 3,
   "metadata": {},
   "outputs": [],
   "source": [
    "import re\n",
    "from pydub import AudioSegment"
   ]
  },
  {
   "cell_type": "code",
   "execution_count": 4,
   "metadata": {},
   "outputs": [],
   "source": [
    "audio_dir='/home/mendo/Downloads/LM/LM-5/LM-TTS-Main/ztext_cleaner/New_align/GEN_005.wav'\n",
    "horodatage_dir='/home/mendo/Downloads/LM/LM-5/LM-TTS-Main/ztext_cleaner/New_align/GEN_005.txt'"
   ]
  },
  {
   "cell_type": "code",
   "execution_count": 5,
   "metadata": {},
   "outputs": [
    {
     "name": "stdout",
     "output_type": "stream",
     "text": [
      "Segment 1 exporté: GEN_005_1.wav (6.46s - 11.98s)\n",
      "Segment 2 exporté: GEN_005_2.wav (12.0s - 19.34s)\n",
      "Segment 3 exporté: GEN_005_3.wav (19.34s - 27.92s)\n",
      "Segment 4 exporté: GEN_005_4.wav (27.92s - 36.2s)\n",
      "Segment 5 exporté: GEN_005_5.wav (36.2s - 42.64s)\n",
      "Segment 6 exporté: GEN_005_6.wav (42.64s - 46.46s)\n",
      "Segment 7 exporté: GEN_005_7.wav (46.46s - 55.62s)\n",
      "Segment 8 exporté: GEN_005_8.wav (55.62s - 61.32s)\n",
      "Segment 9 exporté: GEN_005_9.wav (61.32s - 66.14s)\n",
      "Segment 10 exporté: GEN_005_10.wav (66.14s - 73.42s)\n",
      "Segment 11 exporté: GEN_005_11.wav (73.42s - 79.26s)\n",
      "Segment 12 exporté: GEN_005_12.wav (79.26s - 85.22s)\n",
      "Segment 13 exporté: GEN_005_13.wav (85.24s - 93.66s)\n",
      "Segment 14 exporté: GEN_005_14.wav (93.66s - 99.56s)\n",
      "Segment 15 exporté: GEN_005_15.wav (99.56s - 105.56s)\n",
      "Segment 16 exporté: GEN_005_16.wav (105.56s - 113.96s)\n",
      "Segment 17 exporté: GEN_005_17.wav (113.96s - 120.28s)\n",
      "Segment 18 exporté: GEN_005_18.wav (120.28s - 124.92s)\n",
      "Segment 19 exporté: GEN_005_19.wav (124.92s - 133.26s)\n",
      "Segment 20 exporté: GEN_005_20.wav (133.26s - 140.02s)\n",
      "Segment 21 exporté: GEN_005_21.wav (140.02s - 142.38s)\n",
      "Segment 22 exporté: GEN_005_22.wav (142.38s - 152.48s)\n",
      "Segment 23 exporté: GEN_005_23.wav (152.48s - 155.3s)\n",
      "Segment 24 exporté: GEN_005_24.wav (155.3s - 163.24s)\n",
      "Segment 25 exporté: GEN_005_25.wav (163.24s - 169.38s)\n",
      "Segment 26 exporté: GEN_005_26.wav (169.4s - 178.98s)\n",
      "Segment 27 exporté: GEN_005_27.wav (178.98s - 184.94s)\n",
      "Segment 28 exporté: GEN_005_28.wav (184.94s - 190.82s)\n",
      "Segment 29 exporté: GEN_005_29.wav (190.82s - 204.74s)\n",
      "Segment 30 exporté: GEN_005_30.wav (204.74s - 211.78s)\n",
      "Segment 31 exporté: GEN_005_31.wav (211.78s - 215.0s)\n",
      "Segment 32 exporté: GEN_005_32.wav (215.02s - 218.86s)\n"
     ]
    }
   ],
   "source": [
    "\n",
    "# Charger le fichier audio (remplace par ton fichier)\n",
    "audio = AudioSegment.from_file(audio_dir, format=\"wav\")\n",
    "\n",
    "# Lire le fichier texte contenant les segments\n",
    "with open(horodatage_dir, \"r\", encoding=\"utf-8\") as file:\n",
    "    lines = file.readlines()\n",
    "\n",
    "# Extraire les horodatages et le texte\n",
    "segments = []\n",
    "pattern = r\"([\\d\\.]+)-([\\d\\.]+):\\s(.+)\"  # Regex pour capturer les timestamps et le texte\n",
    "\n",
    "for line in lines:\n",
    "    match = re.match(pattern, line.strip())\n",
    "    if match:\n",
    "        start, end, text = match.groups()\n",
    "        segments.append((float(start), float(end), text))\n",
    "\n",
    "# Segmenter l'audio et exporter\n",
    "for i, (start, end, text) in enumerate(segments):\n",
    "    start_ms = int(start * 1000)  # Conversion en millisecondes\n",
    "    end_ms = int(end * 1000)\n",
    "\n",
    "    segment = audio[start_ms:end_ms]\n",
    "\n",
    "    # Nom du fichier\n",
    "    filename = f\"GEN_005_{i+1}.wav\"\n",
    "    segment.export(filename, format=\"wav\")\n",
    "\n",
    "    print(f\"Segment {i+1} exporté: {filename} ({start}s - {end}s)\")\n"
   ]
  },
  {
   "cell_type": "code",
   "execution_count": null,
   "metadata": {},
   "outputs": [],
   "source": []
  },
  {
   "cell_type": "code",
   "execution_count": null,
   "metadata": {},
   "outputs": [],
   "source": []
  }
 ],
 "metadata": {
  "kernelspec": {
   "display_name": "Python 3",
   "language": "python",
   "name": "python3"
  },
  "language_info": {
   "codemirror_mode": {
    "name": "ipython",
    "version": 3
   },
   "file_extension": ".py",
   "mimetype": "text/x-python",
   "name": "python",
   "nbconvert_exporter": "python",
   "pygments_lexer": "ipython3",
   "version": "3.10.12"
  }
 },
 "nbformat": 4,
 "nbformat_minor": 2
}

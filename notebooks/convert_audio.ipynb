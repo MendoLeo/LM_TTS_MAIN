{
 "cells": [
  {
   "cell_type": "code",
   "execution_count": 13,
   "metadata": {},
   "outputs": [],
   "source": [
    "from pydub import AudioSegment\n",
    "from glob import glob\n",
    "import os\n",
    "from pathlib import Path\n",
    "from tqdm.contrib.concurrent import process_map\n",
    "\n",
    "def convert_mp3_to_wav(mp3_path):\n",
    "    lang = mp3_path.split('/')[-2]\n",
    "    line = str.upper(mp3_path.split(\"/\")[-1].replace(\".mp3\", \"\"))\n",
    "    chapter= line.split('_')[4][:3] + '_0' + line.split('_')[3]\n",
    "    book = line.split('_')[4][:3]\n",
    "\n",
    "    \n",
    "\n",
    "    output_path_16 = f\"../{lang}/wavs_16/{book}/{chapter}.wav\"\n",
    "    Path(output_path_16).parent.mkdir(parents=True, exist_ok=True)\n",
    "    output_path_44 = f\"../{lang}/wavs_44/{book}/{chapter}.wav\"\n",
    "    Path(output_path_44).parent.mkdir(parents=True, exist_ok=True)\n",
    "\n",
    "    audio = AudioSegment.from_mp3(mp3_path)\n",
    "    audio.export(output_path_16, format=\"wav\", parameters=[\"-ar\", \"16000\", \"-ac\", \"1\"])\n",
    "    audio.export(output_path_44, format=\"wav\", parameters=[\"-ar\", \"44100\", \"-ac\", \"1\"])\n",
    "\n"
   ]
  },
  {
   "cell_type": "code",
   "execution_count": 15,
   "metadata": {},
   "outputs": [],
   "source": [
    "directory_path='/home/mendo/Downloads/LM/LM_news/TTS_data/Bulu_all/Bulu_AT_audio/*/*.mp3'\n",
    "\n",
    "raw_audios = sorted(glob(directory_path))\n",
    "_ = process_map(convert_mp3_to_wav, raw_audios)"
   ]
  },
  {
   "cell_type": "code",
   "execution_count": 29,
   "metadata": {},
   "outputs": [],
   "source": [
    "pt= \"/home/mendo/Downloads/LM/LM_news/TTS_data/Bulu_all/Bulu_NT_audio/B27___09_Apocalypse__BUMABCN1DA.mp3\""
   ]
  },
  {
   "cell_type": "code",
   "execution_count": 31,
   "metadata": {},
   "outputs": [
    {
     "data": {
      "text/plain": [
       "'Bulu_NT_audio'"
      ]
     },
     "execution_count": 31,
     "metadata": {},
     "output_type": "execute_result"
    }
   ],
   "source": [
    "lang= pt.split('/')[-2]\n",
    "lang"
   ]
  },
  {
   "cell_type": "code",
   "execution_count": 1,
   "metadata": {},
   "outputs": [
    {
     "data": {
      "text/plain": [
       "'GEN_001'"
      ]
     },
     "execution_count": 1,
     "metadata": {},
     "output_type": "execute_result"
    }
   ],
   "source": [
    "line='A01___01_Genese________BUMDPIO1DA.mp3'\n",
    "line=str.upper(line)\n",
    "chapter =line.split('_')[4][:3] + '_' + line.split('_')[3].zfill(3)\n",
    "chapter"
   ]
  },
  {
   "cell_type": "code",
   "execution_count": 22,
   "metadata": {},
   "outputs": [
    {
     "data": {
      "text/plain": [
       "'GEN'"
      ]
     },
     "execution_count": 22,
     "metadata": {},
     "output_type": "execute_result"
    }
   ],
   "source": [
    "book = line.split('_')[4][:3]\n",
    "book"
   ]
  },
  {
   "cell_type": "code",
   "execution_count": null,
   "metadata": {},
   "outputs": [],
   "source": []
  }
 ],
 "metadata": {
  "kernelspec": {
   "display_name": "Python 3",
   "language": "python",
   "name": "python3"
  },
  "language_info": {
   "codemirror_mode": {
    "name": "ipython",
    "version": 3
   },
   "file_extension": ".py",
   "mimetype": "text/x-python",
   "name": "python",
   "nbconvert_exporter": "python",
   "pygments_lexer": "ipython3",
   "version": "3.10.12"
  }
 },
 "nbformat": 4,
 "nbformat_minor": 2
}

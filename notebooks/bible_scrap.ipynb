{
 "cells": [
  {
   "cell_type": "code",
   "execution_count": 1,
   "metadata": {},
   "outputs": [],
   "source": [
    "import pandas as pd\n",
    "import os\n",
    "from glob import glob\n",
    "from tqdm import tqdm\n",
    "import json "
   ]
  },
  {
   "cell_type": "code",
   "execution_count": null,
   "metadata": {},
   "outputs": [],
   "source": []
  },
  {
   "cell_type": "code",
   "execution_count": 3,
   "metadata": {},
   "outputs": [
    {
     "name": "stderr",
     "output_type": "stream",
     "text": [
      "Traitement des livres:   0%|          | 0/66 [00:00<?, ?it/s]"
     ]
    },
    {
     "name": "stderr",
     "output_type": "stream",
     "text": [
      "Traitement des livres: 100%|██████████| 66/66 [00:16<00:00,  4.08it/s]\n"
     ]
    }
   ],
   "source": [
    "\n",
    "# Liste des langues\n",
    "lang = ['Bulu', 'Bafia', 'MKPAMAN_AMVOE_Ewondo','Francais']\n",
    "# Dossier contenant tous les fichiers CSV des livres de la Bible\n",
    "\n",
    "path_all_chapters = '/home/mendo/Downloads/LM/LM-5/LM-TTS-Main/bible_text_CSV'  # Remplacez par le chemin correct\n",
    "\n",
    "# Utiliser glob pour sélectionner tous les fichiers CSV dans le répertoire\n",
    "book_files = glob(os.path.join(path_all_chapters, '*.csv'))\n",
    "\n",
    "# Ajouter une barre de progression pour les fichiers de livres\n",
    "for book_path in tqdm(book_files, desc=\"Traitement des livres\"):\n",
    "    # Obtenir le nom du fichier sans le chemin et l'extension\n",
    "    book_name = os.path.splitext(os.path.basename(book_path))[0]\n",
    "    \n",
    "    # Lire le fichier CSV du livre\n",
    "    df_book = pd.read_csv(book_path)\n",
    "    \n",
    "    # Ajouter une barre de progression pour chaque langue\n",
    "    for ln in tqdm(lang, desc=f\"Extraction des langues pour {book_name}\", leave=False):\n",
    "        if ln in df_book.columns:  # Vérifier si la colonne existe\n",
    "            # Définir le répertoire de sortie pour la langue, à l'intérieur du dossier de base\n",
    "            output_lang_path = os.path.join(path_all_chapters, ln)\n",
    "            # Créer le répertoire s'il n'existe pas encore\n",
    "            os.makedirs(output_lang_path, exist_ok=True)\n",
    "            \n",
    "            # Extraire la colonne de langue avec les index\n",
    "            subset = df_book[['livre.chapitre.verset',ln]].copy()\n",
    "            # Définir le nom de fichier de sortie en utilisant le nom du livre et la langue\n",
    "            output_file_name = f\"{book_name}.csv\"\n",
    "            output_path = os.path.join(output_lang_path, output_file_name)\n",
    "            # Sauvegarder le sous-ensemble dans un fichier CSV\n",
    "            subset.to_csv(output_path, index=False)\n"
   ]
  },
  {
   "cell_type": "code",
   "execution_count": 9,
   "metadata": {},
   "outputs": [
    {
     "name": "stderr",
     "output_type": "stream",
     "text": [
      "Traitement des fichiers CSV dans /home/mendo/Downloads/LM/LM-5/LM-TTS-Main/bible_text_CSV/All/Francais: 100%|██████████| 2/2 [00:00<00:00, 63.14it/s]"
     ]
    },
    {
     "name": "stdout",
     "output_type": "stream",
     "text": [
      "Fichier JSON créé : /home/mendo/Downloads/LM/LM-5/LM-TTS-Main/bible_text_CSV/All/Francais/PHM.json\n",
      "Fichier JSON créé : /home/mendo/Downloads/LM/LM-5/LM-TTS-Main/bible_text_CSV/All/Francais/PHP.json\n"
     ]
    },
    {
     "name": "stderr",
     "output_type": "stream",
     "text": [
      "\n"
     ]
    }
   ],
   "source": [
    "\n",
    "import json\n",
    "\n",
    "\n",
    "# Créer un sous-dossier pour les fichiers JSON\n",
    "directory_path=\"/home/mendo/Downloads/LM/LM-5/LM-TTS-Main/bible_text_CSV/All/Francais\"\n",
    "# Trouver tous les fichiers CSV dans le répertoire\n",
    "csv_files = sorted(glob(f\"{directory_path}/**/*.csv\", recursive=True))\n",
    "\n",
    "# Parcourir chaque fichier CSV trouvé dans le répertoire\n",
    "for csv_path in tqdm(csv_files, desc=f\"Traitement des fichiers CSV dans {directory_path}\"):\n",
    "    # Obtenir le nom du fichier sans l'extension\n",
    "    file_name = os.path.splitext(os.path.basename(csv_path))[0]\n",
    "    \n",
    "    # Lire le fichier CSV\n",
    "    df = pd.read_csv(csv_path)\n",
    "    df = df.rename(columns={df.columns[0]: 'numVerset', df.columns[1]: 'verset'})    \n",
    "    \n",
    "    # Convertir chaque ligne en un dictionnaire au format désiré\n",
    "    data = df[['numVerset', 'verset']].to_dict(orient='records')\n",
    "    \n",
    "    # Sauvegarder le contenu JSON dans le sous-dossier 'json_files'\n",
    "    json_path = os.path.join(directory_path, f\"{file_name}.json\")\n",
    "    with open(json_path, 'w', encoding='utf-8') as f:\n",
    "        json.dump(data, f, ensure_ascii=False, indent=4)\n",
    "    \n",
    "    print(f\"Fichier JSON créé : {json_path}\")"
   ]
  },
  {
   "cell_type": "code",
   "execution_count": 3,
   "metadata": {},
   "outputs": [],
   "source": [
    "def text_file(path):\n",
    "    with open(path, 'r', encoding='utf-8') as f:\n",
    "        data = json.load(f)\n",
    "    \n",
    "    with open('text.txt', 'w', encoding='utf-8') as t:\n",
    "        for dt in data:\n",
    "            t.write(dt['verset'] + '\\n')  # Ajout d'un saut de ligne pour chaque verset\n",
    "    \n",
    "    print('Enregistrement du fichier texte terminé')\n"
   ]
  },
  {
   "cell_type": "code",
   "execution_count": 4,
   "metadata": {},
   "outputs": [
    {
     "name": "stdout",
     "output_type": "stream",
     "text": [
      "Enregistrement du fichier texte terminé\n"
     ]
    }
   ],
   "source": [
    "path= '/home/mendo/Downloads/LM/LM-5/LM-TTS-Main/data_marte_wav/tc_data/json/GEN.json'\n",
    "text_file(path)"
   ]
  },
  {
   "cell_type": "code",
   "execution_count": 4,
   "metadata": {},
   "outputs": [],
   "source": [
    "from datasets import load_dataset,Dataset,Audio\n"
   ]
  },
  {
   "cell_type": "code",
   "execution_count": null,
   "metadata": {},
   "outputs": [],
   "source": []
  },
  {
   "cell_type": "code",
   "execution_count": null,
   "metadata": {},
   "outputs": [],
   "source": [
    "directory_path='/home/mendo/Downloads/LM/LM-5/LM-TTS-Main/data_marte_wav/bu-ba-fr-aligned/Output/Bafia/output/1CO/*/*.wav'\n",
    "\n",
    "raw_audios = sorted(glob(directory_path))"
   ]
  },
  {
   "cell_type": "code",
   "execution_count": null,
   "metadata": {},
   "outputs": [],
   "source": [
    "audio_dataset = Dataset.from_dict({\"audio\": [aud for aud in raw_audios]}).cast_column(\"audio\", Audio())\n"
   ]
  }
 ],
 "metadata": {
  "kernelspec": {
   "display_name": "Python 3",
   "language": "python",
   "name": "python3"
  },
  "language_info": {
   "codemirror_mode": {
    "name": "ipython",
    "version": 3
   },
   "file_extension": ".py",
   "mimetype": "text/x-python",
   "name": "python",
   "nbconvert_exporter": "python",
   "pygments_lexer": "ipython3",
   "version": "3.10.12"
  }
 },
 "nbformat": 4,
 "nbformat_minor": 2
}

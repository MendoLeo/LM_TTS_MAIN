{
 "cells": [
  {
   "cell_type": "code",
   "execution_count": 1,
   "metadata": {},
   "outputs": [],
   "source": [
    "import pandas as pd\n",
    "import os\n",
    "from glob import glob\n",
    "from tqdm import tqdm"
   ]
  },
  {
   "cell_type": "code",
   "execution_count": 2,
   "metadata": {},
   "outputs": [
    {
     "name": "stderr",
     "output_type": "stream",
     "text": [
      "Traitement des livres:   0%|          | 0/66 [00:00<?, ?it/s]"
     ]
    },
    {
     "name": "stderr",
     "output_type": "stream",
     "text": [
      "Traitement des livres: 100%|██████████| 66/66 [00:08<00:00,  7.63it/s]\n"
     ]
    }
   ],
   "source": [
    "\n",
    "# Liste des langues\n",
    "lang = ['Bulu', 'Bafia', 'MKPAMAN_AMVOE_Ewondo']\n",
    "# Dossier contenant tous les fichiers CSV des livres de la Bible\n",
    "path_all_chapters = '/home/mendo/Downloads/LM/LM_news/TTS_data/bible_text_CSV'  # Remplacez par le chemin correct\n",
    "\n",
    "# Utiliser glob pour sélectionner tous les fichiers CSV dans le répertoire\n",
    "book_files = glob(os.path.join(path_all_chapters, '*.csv'))\n",
    "\n",
    "# Ajouter une barre de progression pour les fichiers de livres\n",
    "for book_path in tqdm(book_files, desc=\"Traitement des livres\"):\n",
    "    # Obtenir le nom du fichier sans le chemin et l'extension\n",
    "    book_name = os.path.splitext(os.path.basename(book_path))[0]\n",
    "    \n",
    "    # Lire le fichier CSV du livre\n",
    "    df_book = pd.read_csv(book_path)\n",
    "    \n",
    "    # Ajouter une barre de progression pour chaque langue\n",
    "    for ln in tqdm(lang, desc=f\"Extraction des langues pour {book_name}\", leave=False):\n",
    "        if ln in df_book.columns:  # Vérifier si la colonne existe\n",
    "            # Définir le répertoire de sortie pour la langue, à l'intérieur du dossier de base\n",
    "            output_lang_path = os.path.join(path_all_chapters, ln)\n",
    "            # Créer le répertoire s'il n'existe pas encore\n",
    "            os.makedirs(output_lang_path, exist_ok=True)\n",
    "            \n",
    "            # Extraire la colonne de langue avec les index\n",
    "            subset = df_book[['livre.chapitre.verset',ln]].copy()\n",
    "            # Définir le nom de fichier de sortie en utilisant le nom du livre et la langue\n",
    "            output_file_name = f\"{book_name}.csv\"\n",
    "            output_path = os.path.join(output_lang_path, output_file_name)\n",
    "            # Sauvegarder le sous-ensemble dans un fichier CSV\n",
    "            subset.to_csv(output_path, index=False)\n"
   ]
  },
  {
   "cell_type": "code",
   "execution_count": null,
   "metadata": {},
   "outputs": [],
   "source": []
  }
 ],
 "metadata": {
  "kernelspec": {
   "display_name": "Python 3",
   "language": "python",
   "name": "python3"
  },
  "language_info": {
   "codemirror_mode": {
    "name": "ipython",
    "version": 3
   },
   "file_extension": ".py",
   "mimetype": "text/x-python",
   "name": "python",
   "nbconvert_exporter": "python",
   "pygments_lexer": "ipython3",
   "version": "3.10.12"
  }
 },
 "nbformat": 4,
 "nbformat_minor": 2
}

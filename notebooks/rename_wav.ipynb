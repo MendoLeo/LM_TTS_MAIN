{
 "cells": [
  {
   "cell_type": "code",
   "execution_count": 2,
   "metadata": {},
   "outputs": [],
   "source": [
    "import os\n",
    "from glob import glob\n",
    "from tqdm import tqdm\n"
   ]
  },
  {
   "cell_type": "code",
   "execution_count": 5,
   "metadata": {},
   "outputs": [],
   "source": [
    "def rename_audio_file(audio_path, dict_replace):\n",
    "    \"\"\"\n",
    "    Renomme un fichier audio en fonction du dictionnaire de remplacement si nécessaire.\n",
    "    \"\"\"\n",
    "    # Extraire le nom de fichier sans l'extension\n",
    "    file_name = os.path.basename(audio_path).replace('.wav', '')\n",
    "    book_name = file_name.split('_')[0]\n",
    "\n",
    "    # Vérifier si le nom de livre doit être remplacé\n",
    "    if book_name in dict_replace:\n",
    "        # Construire le nouveau nom de fichier\n",
    "        new_name = dict_replace[book_name] + '_' + '_'.join(file_name.split('_')[1:]) + '.wav'\n",
    "        \n",
    "        # Générer le chemin complet pour le nouveau fichier\n",
    "        new_path = os.path.join(os.path.dirname(audio_path), new_name)\n",
    "        \n",
    "        # Renommer le fichier\n",
    "        os.rename(audio_path, new_path)\n",
    "        print(f'Renamed \"{audio_path}\" to \"{new_path}\"')\n",
    "    else:\n",
    "        print(f'No renaming needed for \"{audio_path}\"')"
   ]
  },
  {
   "cell_type": "code",
   "execution_count": 16,
   "metadata": {},
   "outputs": [],
   "source": [
    "\n",
    "# Dictionnaire de remplacement pour les noms de livres\n",
    "dict_replace = {\n",
    "    '1RO': '1KI', \"2RO\": '2KI', \"CAN\": 'SNG', 'ESA': 'ISA',\n",
    "    'ESD': 'EZR', 'JOE': 'JOL', 'JUG': 'JDG', 'NAH': 'NAM', 'OSE': 'HOS', 'NOM':'NUM',\n",
    "    '1JE':'1JN','1PI':'1PE','2JE':'2JN','2PI':'2PE','3JE':'3JN','APO':'REV','JAC':'JAS',\n",
    "    'JEA':'JHN','LUC':'LUK','MAR':'MRK'\n",
    "}"
   ]
  },
  {
   "cell_type": "code",
   "execution_count": 25,
   "metadata": {},
   "outputs": [
    {
     "data": {
      "text/plain": [
       "518"
      ]
     },
     "execution_count": 25,
     "metadata": {},
     "output_type": "execute_result"
    }
   ],
   "source": [
    "chemin = \"/home/mendo/Downloads/LM/LM-5/LM-TTS-Main/data_marte_wav/Ewondo/Ewondo_NT_audio/**/*.wav\"\n",
    "audio_paths = glob(chemin, recursive=True)\n",
    "len(audio_paths) # can help me to known our many audios  i have for each languages!!!\n"
   ]
  },
  {
   "cell_type": "code",
   "execution_count": null,
   "metadata": {},
   "outputs": [],
   "source": [
    "# Liste des chemins des fichiers audio\n",
    "\n",
    "# Appliquer le renommage à chaque fichier\n",
    "for audio_path in tqdm(audio_paths):\n",
    "    rename_audio_file(audio_path, dict_replace)\n"
   ]
  },
  {
   "cell_type": "code",
   "execution_count": null,
   "metadata": {},
   "outputs": [],
   "source": []
  }
 ],
 "metadata": {
  "kernelspec": {
   "display_name": "Python 3",
   "language": "python",
   "name": "python3"
  },
  "language_info": {
   "codemirror_mode": {
    "name": "ipython",
    "version": 3
   },
   "file_extension": ".py",
   "mimetype": "text/x-python",
   "name": "python",
   "nbconvert_exporter": "python",
   "pygments_lexer": "ipython3",
   "version": "3.10.12"
  }
 },
 "nbformat": 4,
 "nbformat_minor": 2
}

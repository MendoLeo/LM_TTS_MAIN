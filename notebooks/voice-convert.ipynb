{
 "cells": [
  {
   "cell_type": "markdown",
   "metadata": {},
   "source": [
    "### voice convert test to generate and save data for model training !"
   ]
  },
  {
   "cell_type": "markdown",
   "metadata": {},
   "source": [
    "### L'objectif de ce notebook est d'effectuer des traitements pour reutiliser nos donnees:\n",
    "\n",
    "- Bafia, au lieu de supprimer les fragments audio a distinction de parole au niveau des declaration dans les audios,\n",
    "nous obtons pour une unifornisation de la voix sur tout les audios meme ce contenant une declaration faite par quelqu'un d'autre\n",
    "et avoir ainsi des audios uniformes.\n",
    "\n",
    "- Bulu, ayant constate des livres lus par une voix feminine, pour uniformiser les audios, au lieu de supprimer ces livres(perde de donnees), nous convertissons cette voix femine par la voix masculine majoritaire dans tous les audios\n",
    "\n",
    "- Ewondo,Bafia, etant donnees la limites de disponibilite des donnees (NT uniquement), nous allons utiliser les audios de l'AT Bulu pour combler le manque, cependant en convertissant la voix du lecteur Bulu en la voix majoritaires de chacune des autres langues dans la lecture du NT.\n"
   ]
  },
  {
   "cell_type": "code",
   "execution_count": 4,
   "metadata": {},
   "outputs": [],
   "source": [
    "from glob import glob\n",
    "import subprocess\n",
    "import os"
   ]
  },
  {
   "cell_type": "code",
   "execution_count": 3,
   "metadata": {},
   "outputs": [],
   "source": [
    "\n",
    "\n",
    "# Chemin des fichiers source\n",
    "path = '/home/mendo/Downloads/LM/LM_news/TTS_data/Bulu_all/Bulu_AT_audio/*/*.wav'\n",
    "raw_src_audios = sorted(glob(path))  # Liste des fichiers audio source\n",
    "target_audio = ''  # Chemin de l'audio cible pour la conversion\n",
    "\n",
    "# Commande de base\n",
    "base_command = [\"tts\", \"--model_name\", \"voice_conversion/<language>/<dataset>/<model_name>\"]\n",
    "\n",
    "for src_audio in raw_src_audios:\n",
    "    # Extraire le livre et le fichier audio\n",
    "    book = src_audio.split('/')[-2]\n",
    "    h_audio = src_audio.split('/')[-1]\n",
    "\n",
    "    # Construire le chemin de sortie\n",
    "    out_audios = f\"/wavs_16/{book}/{h_audio}\"\n",
    "    \n",
    "    # Créer les répertoires de sortie si nécessaire\n",
    "    os.makedirs(os.path.dirname(out_audios), exist_ok=True)\n",
    "\n",
    "    # Construire la commande complète\n",
    "    command = base_command + [\n",
    "        \"--source_wav\", src_audio,\n",
    "        \"--target_wav\", target_audio,\n",
    "        \"--out_path\", out_audios\n",
    "    ]\n",
    "\n",
    "    # Exécuter la commande\n",
    "    try:\n",
    "        subprocess.run(command, check=True, text=True, stdout=subprocess.DEVNULL, stderr=subprocess.DEVNULL)\n",
    "    except subprocess.CalledProcessError as e:\n",
    "        print(f\"Erreur lors de l'exécution de la commande pour l'audio : {h_audio}\")\n"
   ]
  },
  {
   "cell_type": "code",
   "execution_count": null,
   "metadata": {},
   "outputs": [],
   "source": []
  },
  {
   "cell_type": "code",
   "execution_count": null,
   "metadata": {},
   "outputs": [],
   "source": []
  }
 ],
 "metadata": {
  "kernelspec": {
   "display_name": "Python 3",
   "language": "python",
   "name": "python3"
  },
  "language_info": {
   "codemirror_mode": {
    "name": "ipython",
    "version": 3
   },
   "file_extension": ".py",
   "mimetype": "text/x-python",
   "name": "python",
   "nbconvert_exporter": "python",
   "pygments_lexer": "ipython3",
   "version": "3.10.12"
  }
 },
 "nbformat": 4,
 "nbformat_minor": 2
}
